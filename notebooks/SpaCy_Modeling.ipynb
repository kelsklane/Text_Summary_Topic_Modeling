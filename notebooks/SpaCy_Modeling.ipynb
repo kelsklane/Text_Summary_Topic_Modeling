{
 "cells": [
  {
   "cell_type": "code",
   "execution_count": 25,
   "id": "dbd7062f",
   "metadata": {},
   "outputs": [],
   "source": [
    "import pandas as pd\n",
    "import spacy\n",
    "import string\n",
    "from spacy.lang.en.stop_words import STOP_WORDS\n",
    "from spacy.lang.en import English\n",
    "from sklearn.feature_extraction.text import CountVectorizer,TfidfVectorizer\n",
    "from sklearn.base import TransformerMixin\n",
    "from sklearn.pipeline import Pipeline\n",
    "from sklearn.datasets import fetch_20newsgroups\n",
    "\n",
    "newsgroups_train = fetch_20newsgroups(subset = 'train', shuffle = True, remove=('headers', 'footers', 'quotes'))\n",
    "newsgroups_test = fetch_20newsgroups(subset = 'test', shuffle = True, remove=('headers', 'footers', 'quotes'))"
   ]
  },
  {
   "cell_type": "code",
   "execution_count": 54,
   "id": "6262575f",
   "metadata": {},
   "outputs": [],
   "source": [
    "punctuations = string.punctuation\n",
    "nlp = spacy.load(\"en_core_web_sm\")\n",
    "stop_words = spacy.lang.en.stop_words.STOP_WORDS\n",
    "\n",
    "parser = English()\n",
    "\n",
    "def spacy_tokenizer(article):\n",
    "    doc = nlp(article)\n",
    "    my_tokens = [token.lemma_ for token in doc]\n",
    "    my_tokens = [word for word in my_tokens if word not in stop_words and word not in punctuations]\n",
    "    my_tokens = [word for word in my_tokens if word != '\\n']\n",
    "    return my_tokens"
   ]
  },
  {
   "cell_type": "code",
   "execution_count": 55,
   "id": "bd2c5cad",
   "metadata": {},
   "outputs": [],
   "source": [
    "# Parameters tuning using Grid Search\n",
    "from sklearn.decomposition import LatentDirichletAllocation\n",
    "from sklearn.feature_extraction.text import CountVectorizer\n",
    "\n",
    "cv = CountVectorizer(tokenizer = spacy_tokenizer)\n",
    "data_fit = cv.fit_transform(newsgroups_train.data)\n",
    "lda = LatentDirichletAllocation(n_components = 20, random_state = 213)\n",
    "results = lda.fit_transform(data_fit)"
   ]
  },
  {
   "cell_type": "code",
   "execution_count": 57,
   "id": "5c9a54bf",
   "metadata": {},
   "outputs": [
    {
     "data": {
      "text/plain": [
       "'lda_components = lda.components_\\n\\nterms = cv.get_feature_names()\\n\\nfor index, component in enumerate(lda_components):\\n    zipped = zip(terms, component)\\n    top_terms_key=sorted(zipped, key = lambda t: t[1], reverse=True)[:7]\\n    top_terms_list=list(dict(top_terms_key).keys())\\n    print(\"Topic \"+str(index)+\": \",top_terms_list)'"
      ]
     },
     "execution_count": 57,
     "metadata": {},
     "output_type": "execute_result"
    }
   ],
   "source": [
    "lda_components = lda.components_\n",
    "\n",
    "terms = cv.get_feature_names()\n",
    "\n",
    "for index, component in enumerate(lda_components):\n",
    "    zipped = zip(terms, component)\n",
    "    top_terms_key=sorted(zipped, key = lambda t: t[1], reverse=True)[:7]\n",
    "    top_terms_list=list(dict(top_terms_key).keys())\n",
    "    print(\"Topic \"+str(index)+\": \",top_terms_list)"
   ]
  },
  {
   "cell_type": "code",
   "execution_count": null,
   "id": "e27d6601",
   "metadata": {},
   "outputs": [],
   "source": []
  }
 ],
 "metadata": {
  "kernelspec": {
   "display_name": "Python (tensor)",
   "language": "python",
   "name": "tensor"
  },
  "language_info": {
   "codemirror_mode": {
    "name": "ipython",
    "version": 3
   },
   "file_extension": ".py",
   "mimetype": "text/x-python",
   "name": "python",
   "nbconvert_exporter": "python",
   "pygments_lexer": "ipython3",
   "version": "3.8.12"
  }
 },
 "nbformat": 4,
 "nbformat_minor": 5
}
